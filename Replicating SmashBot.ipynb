{
 "cells": [
  {
   "cell_type": "markdown",
   "metadata": {},
   "source": [
    "<h3> Replicating SmashBot </h3>\n",
    "\n",
    "I'm going to try to replicate <a href=\"https://www.youtube.com/watch?v=6CfPnK76B9A\"> this bot </a>. It's a Fox bot that (so far) can only play on FD, optimized for Marth matchup. \n",
    "\n",
    "Here is his <a href=\"https://github.com/altf4/SmashBot\"> github repositoy <a/>."
   ]
  }
 ],
 "metadata": {
  "kernelspec": {
   "display_name": "Python 3",
   "language": "python",
   "name": "python3"
  },
  "language_info": {
   "codemirror_mode": {
    "name": "ipython",
    "version": 3
   },
   "file_extension": ".py",
   "mimetype": "text/x-python",
   "name": "python",
   "nbconvert_exporter": "python",
   "pygments_lexer": "ipython3",
   "version": "3.5.1"
  }
 },
 "nbformat": 4,
 "nbformat_minor": 2
}
